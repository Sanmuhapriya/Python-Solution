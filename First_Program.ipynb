{
  "nbformat": 4,
  "nbformat_minor": 0,
  "metadata": {
    "colab": {
      "name": "First Program.ipynb",
      "provenance": [],
      "authorship_tag": "ABX9TyOB7p11lO2XSxmn+dzLMvsX",
      "include_colab_link": true
    },
    "kernelspec": {
      "name": "python3",
      "display_name": "Python 3"
    }
  },
  "cells": [
    {
      "cell_type": "markdown",
      "metadata": {
        "id": "view-in-github",
        "colab_type": "text"
      },
      "source": [
        "<a href=\"https://colab.research.google.com/github/Sanmuhapriya/Python-Solution/blob/main/First_Program.ipynb\" target=\"_parent\"><img src=\"https://colab.research.google.com/assets/colab-badge.svg\" alt=\"Open In Colab\"/></a>"
      ]
    },
    {
      "cell_type": "code",
      "metadata": {
        "id": "mNVp4x1cwHRW"
      },
      "source": [
        "#To calculate no. of kms\r\n",
        "no_of_rounds=int(input())\r\n",
        "kms=7*no_of_rounds\r\n",
        "print(kms ,\"kms travelled\")"
      ],
      "execution_count": null,
      "outputs": []
    }
  ]
}