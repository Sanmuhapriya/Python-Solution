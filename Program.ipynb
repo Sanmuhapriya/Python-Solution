{
  "nbformat": 4,
  "nbformat_minor": 0,
  "metadata": {
    "colab": {
      "name": "Program.ipynb",
      "provenance": [],
      "authorship_tag": "ABX9TyOiwBZ22VdtGQvJtadrZgd0",
      "include_colab_link": true
    },
    "kernelspec": {
      "name": "python3",
      "display_name": "Python 3"
    }
  },
  "cells": [
    {
      "cell_type": "markdown",
      "metadata": {
        "id": "view-in-github",
        "colab_type": "text"
      },
      "source": [
        "<a href=\"https://colab.research.google.com/github/Sanmuhapriya/Python-Solution/blob/main/Program.ipynb\" target=\"_parent\"><img src=\"https://colab.research.google.com/assets/colab-badge.svg\" alt=\"Open In Colab\"/></a>"
      ]
    },
    {
      "cell_type": "code",
      "metadata": {
        "id": "mNVp4x1cwHRW"
      },
      "source": [
        "#To calculate no. of kms\r\n",
        "no_of_rounds=int(input())\r\n",
        "kms=7*no_of_rounds\r\n",
        "print(kms ,\"kms travelled\")"
      ],
      "execution_count": null,
      "outputs": []
    },
    {
      "cell_type": "code",
      "metadata": {
        "id": "b-aDzPBTxZw7"
      },
      "source": [
        "#To print pair of numbers that result in sum\r\n",
        "def pair_of_numbers(arr,n,sum):\r\n",
        "  for i in range(0,n):\r\n",
        "    for j in range(i+1,n):\r\n",
        "      if arr[i]+arr[j]==sum:\r\n",
        "        print(arr[i],\",\",arr[j])\r\n",
        "        break\r\n",
        "  else:\r\n",
        "    print('No Pairs found')\r\n",
        "arr=[1,2,3,4,8]\r\n",
        "sum=8\r\n",
        "n=len(arr)\r\n",
        "pair_of_numbers(arr,n,sum)"
      ],
      "execution_count": null,
      "outputs": []
    },
    {
      "cell_type": "code",
      "metadata": {
        "id": "OsHahD8cxec7"
      },
      "source": [
        "#Reversing the string and add random character\r\n",
        "import random\r\n",
        "import string\r\n",
        "word='Pentafox'\r\n",
        "word=word[::-1]\r\n",
        "letters=string.ascii_uppercase\r\n",
        "p=(''.join(random.choice(letters+word) for i in range(1)))\r\n",
        "print(p+(word.lower()))\r\n"
      ],
      "execution_count": null,
      "outputs": []
    },
    {
      "cell_type": "code",
      "metadata": {
        "id": "DzIV_ByZxhnq"
      },
      "source": [
        "from collections import Counter\r\n",
        "string=\"All is well\"\r\n",
        "freq=Counter(string)\r\n",
        "repeat={}\r\n",
        "for key,value in freq.items():\r\n",
        "  if value>1:\r\n",
        "    repeat[key]=value\r\n",
        "res=''.join(key+str(value) for key,value in repeat.items())\r\n",
        "print(str(res))"
      ],
      "execution_count": null,
      "outputs": []
    },
    {
      "cell_type": "code",
      "metadata": {
        "id": "dRF-Nn50xlmK"
      },
      "source": [
        "#Elliminating comman cahacter\r\n",
        "from collections import OrderedDict\r\n",
        "def remove_duplicate(str1):\r\n",
        "  str2=str1\r\n",
        "  ret= \"\".join(OrderedDict.fromkeys(str1))\r\n",
        "  n=len(str2)\r\n",
        "  for i in range(n):\r\n",
        "    if ret not in str1:\r\n",
        "     return ret\r\n",
        "print(remove_duplicate(\"RajeshGanesh\"))"
      ],
      "execution_count": null,
      "outputs": []
    },
    {
      "cell_type": "code",
      "metadata": {
        "id": "TR-N9VcYxuCs"
      },
      "source": [
        ""
      ],
      "execution_count": null,
      "outputs": []
    }
  ]
}